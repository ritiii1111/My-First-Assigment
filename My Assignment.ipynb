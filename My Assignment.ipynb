{
 "cells": [
  {
   "cell_type": "markdown",
   "metadata": {},
   "source": [
    "<center>\n",
    "    <img src=\"https://cf-courses-data.s3.us.cloud-object-storage.appdomain.cloud/IBMDeveloperSkillsNetwork-DS0105EN-SkillsNetwork/labs/Module2/images/SN_web_lightmode.png\" width=\"300\" alt=\"cognitiveclass.ai logo\">\n",
    "</center>\n"
   ]
  },
  {
   "cell_type": "markdown",
   "metadata": {
    "tags": []
   },
   "source": [
    "# ___My Data Science Assignment___"
   ]
  },
  {
   "cell_type": "markdown",
   "metadata": {
    "tags": []
   },
   "source": [
    "\n",
    "**This is my first jupyter note book assignment, for the course Data science tools. In which I have learn various languages, techniques and tools that are used in data science.**"
   ]
  },
  {
   "cell_type": "markdown",
   "metadata": {
    "tags": []
   },
   "source": [
    "The various data science language are - Python, Julia, Javascript, Scala, Java"
   ]
  },
  {
   "cell_type": "markdown",
   "metadata": {},
   "source": [
    "The various data science libraries are - Pandas, Numpy, Scipy, Seaborn, Matplotlib"
   ]
  },
  {
   "cell_type": "markdown",
   "metadata": {},
   "source": [
    "|**Data Science Tools**|\n",
    "| --- |\n",
    "|1. Matlab|\n",
    "|2. Tensorflow|\n",
    "|3. Aparche Spark|\n",
    "|4. Aparche Hadoop|\n",
    "|5. Matplotlib|*"
   ]
  },
  {
   "cell_type": "markdown",
   "metadata": {},
   "source": [
    "**A. Arthematic Expression**\n",
    "\n",
    "$ ((5+5)*2 ) = 20 $"
   ]
  },
  {
   "cell_type": "markdown",
   "metadata": {},
   "source": [
    "\n",
    "**B. Addition and Multiplication**\n",
    "\n",
    "$ (5+5) = 10$\n",
    "\n",
    "$10*11 = 110 $"
   ]
  },
  {
   "cell_type": "markdown",
   "metadata": {
    "tags": []
   },
   "source": [
    "### Let's convert 300 mins into hours:\n",
    "\n",
    "1 Hour = 60 mins\n",
    "therefore 300 mins will be\n",
    "\n",
    "$300/60 = 5$\n",
    "\n",
    "hence 300 mins = 5 hours"
   ]
  },
  {
   "cell_type": "markdown",
   "metadata": {},
   "source": [
    "**Main Objective of Data Science**\n",
    "\n",
    "|Objectives|\n",
    "|---|\n",
    "|Data cleaning|\n",
    "|Data Manupulation|\n",
    "|Data Visualization|\n",
    "|Data Collection|"
   ]
  },
  {
   "cell_type": "markdown",
   "metadata": {},
   "source": [
    "**Author name = Riteek Behera**"
   ]
  },
  {
   "cell_type": "code",
   "execution_count": null,
   "metadata": {},
   "outputs": [],
   "source": []
  }
 ],
 "metadata": {
  "kernelspec": {
   "display_name": "Python",
   "language": "python",
   "name": "conda-env-python-py"
  },
  "language_info": {
   "codemirror_mode": {
    "name": "ipython",
    "version": 3
   },
   "file_extension": ".py",
   "mimetype": "text/x-python",
   "name": "python",
   "nbconvert_exporter": "python",
   "pygments_lexer": "ipython3",
   "version": "3.7.12"
  },
  "toc-autonumbering": true,
  "toc-showcode": true,
  "toc-showmarkdowntxt": true
 },
 "nbformat": 4,
 "nbformat_minor": 4
}
